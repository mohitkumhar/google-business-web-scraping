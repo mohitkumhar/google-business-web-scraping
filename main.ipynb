{
 "cells": [
  {
   "cell_type": "code",
   "execution_count": 2,
   "metadata": {},
   "outputs": [
    {
     "name": "stdout",
     "output_type": "stream",
     "text": [
      "Requirement already satisfied: attrs==23.2.0 in c:\\users\\write\\desktop\\ai\\ai-development\\ml\\virtual_env\\lib\\site-packages (23.2.0)\n",
      "Requirement already satisfied: certifi==2024.7.4 in c:\\users\\write\\desktop\\ai\\ai-development\\ml\\virtual_env\\lib\\site-packages (2024.7.4)\n",
      "Requirement already satisfied: cffi==1.16.0 in c:\\users\\write\\desktop\\ai\\ai-development\\ml\\virtual_env\\lib\\site-packages (1.16.0)\n",
      "Requirement already satisfied: distlib==0.3.8 in c:\\users\\write\\desktop\\ai\\ai-development\\ml\\virtual_env\\lib\\site-packages (0.3.8)\n",
      "Requirement already satisfied: exceptiongroup==1.2.2 in c:\\users\\write\\desktop\\ai\\ai-development\\ml\\virtual_env\\lib\\site-packages (1.2.2)\n",
      "Requirement already satisfied: filelock==3.15.4 in c:\\users\\write\\desktop\\ai\\ai-development\\ml\\virtual_env\\lib\\site-packages (3.15.4)\n",
      "Requirement already satisfied: h11==0.14.0 in c:\\users\\write\\desktop\\ai\\ai-development\\ml\\virtual_env\\lib\\site-packages (0.14.0)\n",
      "Requirement already satisfied: idna==3.7 in c:\\users\\write\\desktop\\ai\\ai-development\\ml\\virtual_env\\lib\\site-packages (3.7)\n",
      "Requirement already satisfied: outcome==1.3.0.post0 in c:\\users\\write\\desktop\\ai\\ai-development\\ml\\virtual_env\\lib\\site-packages (1.3.0.post0)\n",
      "Requirement already satisfied: platformdirs==4.2.2 in c:\\users\\write\\desktop\\ai\\ai-development\\ml\\virtual_env\\lib\\site-packages (4.2.2)\n",
      "Requirement already satisfied: pycparser==2.22 in c:\\users\\write\\desktop\\ai\\ai-development\\ml\\virtual_env\\lib\\site-packages (2.22)\n",
      "Requirement already satisfied: PySocks==1.7.1 in c:\\users\\write\\desktop\\ai\\ai-development\\ml\\virtual_env\\lib\\site-packages (1.7.1)\n",
      "Requirement already satisfied: pytz==2024.1 in c:\\users\\write\\desktop\\ai\\ai-development\\ml\\virtual_env\\lib\\site-packages (2024.1)\n",
      "Requirement already satisfied: selenium==4.23.1 in c:\\users\\write\\desktop\\ai\\ai-development\\ml\\virtual_env\\lib\\site-packages (4.23.1)\n",
      "Requirement already satisfied: six==1.16.0 in c:\\users\\write\\desktop\\ai\\ai-development\\ml\\virtual_env\\lib\\site-packages (1.16.0)\n",
      "Requirement already satisfied: sniffio==1.3.1 in c:\\users\\write\\desktop\\ai\\ai-development\\ml\\virtual_env\\lib\\site-packages (1.3.1)\n",
      "Requirement already satisfied: sortedcontainers==2.4.0 in c:\\users\\write\\desktop\\ai\\ai-development\\ml\\virtual_env\\lib\\site-packages (2.4.0)\n",
      "Requirement already satisfied: trio==0.26.0 in c:\\users\\write\\desktop\\ai\\ai-development\\ml\\virtual_env\\lib\\site-packages (0.26.0)\n",
      "Requirement already satisfied: trio-websocket==0.11.1 in c:\\users\\write\\desktop\\ai\\ai-development\\ml\\virtual_env\\lib\\site-packages (0.11.1)\n",
      "Requirement already satisfied: typing_extensions==4.12.2 in c:\\users\\write\\desktop\\ai\\ai-development\\ml\\virtual_env\\lib\\site-packages (4.12.2)\n",
      "Requirement already satisfied: tzdata==2024.1 in c:\\users\\write\\desktop\\ai\\ai-development\\ml\\virtual_env\\lib\\site-packages (2024.1)\n",
      "Requirement already satisfied: urllib3==2.2.2 in c:\\users\\write\\desktop\\ai\\ai-development\\ml\\virtual_env\\lib\\site-packages (2.2.2)\n",
      "Requirement already satisfied: virtualenv==20.26.3 in c:\\users\\write\\desktop\\ai\\ai-development\\ml\\virtual_env\\lib\\site-packages (20.26.3)\n",
      "Requirement already satisfied: websocket-client==1.8.0 in c:\\users\\write\\desktop\\ai\\ai-development\\ml\\virtual_env\\lib\\site-packages (1.8.0)\n",
      "Requirement already satisfied: wsproto==1.2.0 in c:\\users\\write\\desktop\\ai\\ai-development\\ml\\virtual_env\\lib\\site-packages (1.2.0)\n"
     ]
    },
    {
     "name": "stderr",
     "output_type": "stream",
     "text": [
      "\n",
      "[notice] A new release of pip is available: 24.1.2 -> 24.2\n",
      "[notice] To update, run: python.exe -m pip install --upgrade pip\n"
     ]
    }
   ],
   "source": [
    "# install all required dependency \n",
    "! pip install attrs==23.2.0 certifi==2024.7.4 cffi==1.16.0 distlib==0.3.8 exceptiongroup==1.2.2 filelock==3.15.4 h11==0.14.0 idna==3.7 outcome==1.3.0.post0 platformdirs==4.2.2 pycparser==2.22 PySocks==1.7.1 pytz==2024.1 selenium==4.23.1 six==1.16.0 sniffio==1.3.1 sortedcontainers==2.4.0 trio==0.26.0 trio-websocket==0.11.1 typing_extensions==4.12.2 tzdata==2024.1 urllib3==2.2.2 virtualenv==20.26.3 websocket-client==1.8.0 wsproto==1.2.0 "
   ]
  },
  {
   "cell_type": "code",
   "execution_count": 3,
   "metadata": {
    "id": "cl3nCvu4x-Z2"
   },
   "outputs": [],
   "source": [
    "# importing all necessary library\n",
    "from selenium import webdriver\n",
    "from selenium.webdriver.common.keys import Keys\n",
    "from selenium.webdriver.common.by import By\n",
    "import time\n",
    "\n",
    "# json for exporting scraped data in json form\n",
    "import json"
   ]
  },
  {
   "cell_type": "code",
   "execution_count": 4,
   "metadata": {
    "id": "PGZnfGioPIuK"
   },
   "outputs": [],
   "source": [
    "\n",
    "from selenium.webdriver.chrome.options import Options\n",
    "\n",
    "chrome_options = Options()\n",
    "chrome_options.add_argument(\"--headless\")  # Run Chrome in headless mode (no GUI)\n",
    "chrome_options.add_argument(\"--no-sandbox\") # To pass Chrome Security Mechanism\n",
    "\n",
    "# chrome_options.add_argument(\"--disable-dev-shm-usage\")  # Uncomment if you face shared memory issues\n",
    "\n",
    "# Initialize the Chrome WebDriver with the specified options\n",
    "driver = webdriver.Chrome(options=chrome_options)"
   ]
  },
  {
   "cell_type": "code",
   "execution_count": 5,
   "metadata": {
    "id": "WdlSAck8x9fX"
   },
   "outputs": [],
   "source": [
    "# function for scraping data\n",
    "\n",
    "def scraping(url):\n",
    "\n",
    "  # Initialize a dictionary to store the scraped data\n",
    "  data = {\n",
    "      \"Escape Room name\": '',\n",
    "      \"Address\": '',\n",
    "      \"Phone Number\": '',\n",
    "      \"URL of escape room\": '',\n",
    "      \"Hours of Operation\": '',\n",
    "      \"Reviews\": '',\n",
    "    \t\"Links of social media\": [],\n",
    "  }\n",
    "\n",
    "  # Navigate to the given URL\n",
    "  driver.get(url)\n",
    "\n",
    "  # Wait for 5 sec to allow page to load\n",
    "  time.sleep(5)\n",
    "\n",
    "\n",
    "  # Scraping data with handling error (if occures)\n",
    "\n",
    "  # Scrape the name of escape room\n",
    "  try:\n",
    "\n",
    "    # trying to find name of escape room bertween two classes\n",
    "    try:\n",
    "      name = driver.find_element(By.CLASS_NAME, 'DoxwDb')\n",
    "    except:\n",
    "      name = driver.find_element(By.CLASS_NAME, 'qrShPb')\n",
    "\n",
    "    data[\"Escape Room name\"] = name.text\n",
    "  except:\n",
    "    data[\"Escape Room name\"] = 'No Name Found'\n",
    "\n",
    "  # Scrape the address of escape room\n",
    "  try:\n",
    "    address_content = driver.find_element(By.CLASS_NAME, 'LrzXr')\n",
    "    data['Address'] = address_content.text\n",
    "  except:\n",
    "    data['Address'] = 'No Address Found'\n",
    "\n",
    "  # Scrape the phone number\n",
    "  try:\n",
    "    contact = driver.find_element(By.CLASS_NAME, 'kno-fv')\n",
    "    data['Phone Number'] = contact.text\n",
    "  except:\n",
    "    data['Phone Number'] = 'No Phone Number Found'\n",
    "\n",
    "  # Scrape the website link\n",
    "  try:\n",
    "    website_link = driver.find_element(By.CLASS_NAME, 'n1obkb')\n",
    "    link = website_link.get_attribute('href')\n",
    "    data['URL of escape room'] = link\n",
    "  except:\n",
    "    data['URL of escape room'] = 'No Website Link Found'\n",
    "\n",
    "  # Scrape the hours of operation and clean the text\n",
    "  try:\n",
    "    hour_of_op = driver.find_element(By.CLASS_NAME, 'JjSWRd')\n",
    "    hour_of_op_text = hour_of_op.text\n",
    "    hour_of_op = hour_of_op_text.replace('\\u202f', ' ')   # for removing non-breaking space\n",
    "    hour_of_op = hour_of_op.replace('\\u22c5', ' ')  # dot operator\n",
    "    data['Hours of Operation'] = hour_of_op\n",
    "  except:\n",
    "    data['Hours of Operation'] = 'No Hours of Operation Found'\n",
    "\n",
    "\n",
    "  # Scrape the reviews\n",
    "  try:\n",
    "    reviews = driver.find_element(By.CLASS_NAME, 'hqzQac')\n",
    "    data['Reviews'] = reviews.text\n",
    "  except:\n",
    "    data['Reviews'] = 'No Reviews Found'\n",
    "\n",
    "  # Try to scrape social media links\n",
    "  try:\n",
    "\n",
    "    # Locate the social media container\n",
    "    social_media_container = driver.find_element(By.CLASS_NAME, 'OOijTb')\n",
    "\n",
    "    # find all social media links within the container\n",
    "    social_media_links = social_media_container.find_elements(By.TAG_NAME, 'a')\n",
    "\n",
    "    # creating dict for storing links of social media accounts\n",
    "    links_count = {}\n",
    "\n",
    "    # Iterating through all the social media links\n",
    "    for social_link in social_media_links:\n",
    "      # Get the Social media platform name\n",
    "      social_media_name = social_link.find_element(By.CLASS_NAME, 'CtCigf').text\n",
    "\n",
    "      # get the link url\n",
    "      link = social_link.get_attribute('href')\n",
    "\n",
    "      # add platform name and link to dictionary\n",
    "      links_count[social_media_name] = link\n",
    "\n",
    "    # storing social media links to data\n",
    "    data['Links of social media'] = links_count\n",
    "\n",
    "\n",
    "  except Exception as e:\n",
    "    # if error occure, then store 'No Links Found'\n",
    "    data['Links of social media'] = 'No Links Found'\n",
    "\n",
    "\n",
    "  # print scraped data\n",
    "  print(data)\n",
    "\n",
    "  return data"
   ]
  },
  {
   "cell_type": "code",
   "execution_count": 6,
   "metadata": {
    "colab": {
     "base_uri": "https://localhost:8080/"
    },
    "id": "jzYK9NsKPNtW",
    "outputId": "9ef2a69e-ae9e-4e35-ba25-174705204259"
   },
   "outputs": [
    {
     "name": "stdout",
     "output_type": "stream",
     "text": [
      "{'Escape Room name': 'Mystery Rooms Jaipur - OFFICIAL Escape Rooms', 'Address': 'J-50-B, Sarojini Marg, Panch Batti, C Scheme, Ashok Nagar, Jaipur, Rajasthan 302001', 'Phone Number': '095991 89428', 'URL of escape room': 'https://www.mysteryrooms.in/', 'Hours of Operation': 'Open   Closes 11 pm', 'Reviews': '489 Google reviews', 'Links of social media': {'Facebook': 'https://www.facebook.com/mysteryrooms.jaipur/'}}\n"
     ]
    },
    {
     "ename": "KeyboardInterrupt",
     "evalue": "",
     "output_type": "error",
     "traceback": [
      "\u001b[1;31m---------------------------------------------------------------------------\u001b[0m",
      "\u001b[1;31mKeyboardInterrupt\u001b[0m                         Traceback (most recent call last)",
      "Cell \u001b[1;32mIn[6], line 12\u001b[0m\n\u001b[0;32m     10\u001b[0m \u001b[38;5;66;03m# iterating each url for scraping\u001b[39;00m\n\u001b[0;32m     11\u001b[0m \u001b[38;5;28;01mfor\u001b[39;00m url \u001b[38;5;129;01min\u001b[39;00m urls:\n\u001b[1;32m---> 12\u001b[0m   data \u001b[38;5;241m=\u001b[39m \u001b[43mscraping\u001b[49m\u001b[43m(\u001b[49m\u001b[43murl\u001b[49m\u001b[43m)\u001b[49m\n\u001b[0;32m     13\u001b[0m   all_data\u001b[38;5;241m.\u001b[39mappend(data)\n\u001b[0;32m     14\u001b[0m   number \u001b[38;5;241m+\u001b[39m\u001b[38;5;241m=\u001b[39m \u001b[38;5;241m1\u001b[39m\n",
      "Cell \u001b[1;32mIn[5], line 20\u001b[0m, in \u001b[0;36mscraping\u001b[1;34m(url)\u001b[0m\n\u001b[0;32m     17\u001b[0m driver\u001b[38;5;241m.\u001b[39mget(url)\n\u001b[0;32m     19\u001b[0m \u001b[38;5;66;03m# Wait for 5 sec to allow page to load\u001b[39;00m\n\u001b[1;32m---> 20\u001b[0m \u001b[43mtime\u001b[49m\u001b[38;5;241;43m.\u001b[39;49m\u001b[43msleep\u001b[49m\u001b[43m(\u001b[49m\u001b[38;5;241;43m5\u001b[39;49m\u001b[43m)\u001b[49m\n\u001b[0;32m     23\u001b[0m \u001b[38;5;66;03m# Scraping data with handling error (if occures)\u001b[39;00m\n\u001b[0;32m     24\u001b[0m \n\u001b[0;32m     25\u001b[0m \u001b[38;5;66;03m# Scrape the name of escape room\u001b[39;00m\n\u001b[0;32m     26\u001b[0m \u001b[38;5;28;01mtry\u001b[39;00m:\n\u001b[0;32m     27\u001b[0m \n\u001b[0;32m     28\u001b[0m   \u001b[38;5;66;03m# trying to find name of escape room bertween two classes\u001b[39;00m\n",
      "\u001b[1;31mKeyboardInterrupt\u001b[0m: "
     ]
    }
   ],
   "source": [
    "# list of all urls to scrape\n",
    "urls = ['https://www.google.com/search?q=jaipur+mystry+room&oq=jaipur+mystry+room&gs_lcrp=EgZjaHJvbWUyBggAEEUYOdIBCDQ4MzdqMGo5qAIAsAIB&sourceid=chrome&ie=UTF-8', 'https://www.google.com/search?q=the+hidden+hour+in+delhi&oq=the+hidden+hour+in+delhi&gs_lcrp=EgZjaHJvbWUyBggAEEUYOdIBCDQ3OTVqMGo5qAIAsAIB&sourceid=chrome&ie=UTF-8', 'https://www.google.com/search?q=Mystery+Rooms-+Connaught+Place%2C+Delhi&oq=Mystery+Rooms-+Connaught+Place%2C+Delhi&gs_lcrp=EgZjaHJvbWUyBggAEEUYOdIBBzMzMWowajGoAgCwAgA&sourceid=chrome&ie=UTF-8', 'https://www.google.com/search?q=Mystery+Rooms+-+Golf+Course+Road%2C+Gurgaon+(NextGen+Escape+Rooms)&sourceid=chrome&ie=UTF-8', 'https://www.google.com/search?q=Mystery+Rooms+-+Sushant+Lok%2C+Gurgaon+(OFFICIAL+Escape+Rooms)&sourceid=chrome&ie=UTF-8', 'https://www.google.com/search?q=Mystery+Rooms+Sector+104%2C+Noida+-+OFFICIAL+Escape+Rooms&sourceid=chrome&ie=UTF-8', 'https://www.google.com/search?q=Mystery+Rooms+Sector+41%2C+Noida+-+Real+Life+Escape+Games&sourceid=chrome&ie=UTF-8', 'https://www.google.com/search?q=The+Hidden+Hour+Gurugram+-+Mystery+Escape+Rooms&sourceid=chrome&ie=UTF-8', 'https://www.google.com/search?q=The+Hidden+Hour+Noida+-+Mystery+Escape+Rooms&sourceid=chrome&ie=UTF-8', 'https://www.google.com/search?q=Mystery+Rooms+-+Pacific+Mall%2C+Tagore+Garden+Delhi&sourceid=chrome&ie=UTF-8', 'https://www.google.com/search?q=Escape+Reality+Delhi&sourceid=chrome&ie=UTF-8', 'https://www.google.com/search?q=Mystery+Rooms+-+Rajouri+Garden%2C+Delhi&sourceid=chrome&ie=UTF-8', 'https://www.google.com/search?q=The+Hidden+Hour+Gurugram+-+Mystery+Escape+Rooms&sourceid=chrome&ie=UTF-8', 'https://www.google.com/search?q=Codebreak+60+-+Room+Escape+Games&sourceid=chrome&ie=UTF-8', 'https://www.google.com/search?q=No+Escape+Room+Powai&sourceid=chrome&ie=UTF-8', 'https://www.google.com/search?q=Rare+Escape+-+Live+Escape+Game+%2F+Fun+things+to+do+in+Lower+Parel+-+west&sourceid=chrome&ie=UTF-8', 'https://www.google.com/search?q=Rare+Escape+-+Live+Escape+Game+in+Fort+and+Churchgate&sourceid=chrome&ie=UTF-8', 'https://www.google.com/search?q=No+Escape+Bandra+%3A+Live+Mystery+Room&sourceid=chrome&ie=UTF-8', 'https://www.google.com/search?q=Mystery+Rooms+-+Phoenix+Market+City%2C+Kurla+Mumbai+(Escape+Rooms+With+Live+Actor)&sourceid=chrome&ie=UTF-8', 'https://www.google.com/search?q=Mystery+Rooms%2C+Andheri+Mumbai+-+OFFICIAL+Escape+Rooms&sourceid=chrome&ie=UTF-8', 'https://www.google.com/search?q=Mystery+Rooms+Chennai+-+OFFICIAL+Escape+Rooms&sourceid=chrome&ie=UTF-8', 'https://www.google.com/search?q=GaminGalaxy+-+Best+Mystery+Escape+Rooms+%7C+Laser+Tag+%7C+VR+%7C+Corporate+team+events+%7C+Birthdays+%7C+Whitefield&sourceid=chrome&ie=UTF-8', 'https://www.google.com/search?q=Dare+2+Escape&sourceid=chrome&ie=UTF-8', 'https://www.google.com/search?q=Matrix+Escape+Rooms&sourceid=chrome&ie=UTF-8', 'https://www.google.com/search?q=Mystery+Rooms+-+Whitefield%2C+Bangalore+(Escape+Rooms+with+Live+Actor)&sourceid=chrome&ie=UTF-8', 'https://www.google.com/search?q=Breakout%C2%AE+Escape+Rooms+%7C+Whitefield+%7C+%231+Escape+Room+in+Bangalore&sourceid=chrome&ie=UTF-8', 'https://www.google.com/search?q=Breakout%C2%AE+Escape+Rooms+%7C+Koramangala+%7C+%231+Escape+room+in+Bangalore&sourceid=chrome&ie=UTF-8', 'https://www.google.com/search?q=Mystery+Rooms+-+Indira+Nagar%2C+Bangalore+(OFFICIAL+Escape+Rooms)&sourceid=chrome&ie=UTF-8', 'https://www.google.com/search?q=ESCAPE+ROOM+Koramangala+(Previously+Mystery+junkies)&sourceid=chrome&ie=UTF-8', 'https://www.google.com/search?q=ResQRoom+%7C+Escape+Room%7C+Secunderabad+%2F+Hyderabad&sourceid=chrome&ie=UTF-8', 'https://www.google.com/search?q=Mystery+Rooms+-+Suchitra+Kompally+Secunderabad&sourceid=chrome&ie=UTF-8', 'https://www.google.com/search?q=Escape+Time+Prasads&sourceid=chrome&ie=UTF-8', 'https://www.google.com/search?q=Escape+Time+-+Mystery+Game&sourceid=chrome&ie=UTF-8', 'https://www.google.com/search?q=Mystery+Rooms+-+Gachibowli%2C+Hyderabad+(NextGen+Escape+Rooms)&sourceid=chrome&ie=UTF-8', 'https://www.google.com/search?q=Mystery+Rooms+-+Banjara+Hills%2C+Hyderabad+(OFFICIAL+Escape+Rooms)&sourceid=chrome&ie=UTF-8', 'https://www.google.com/search?q=Escape+Time+Madhapur+-+Mystery+Escape+Rooms&sourceid=chrome&ie=UTF-8', 'https://www.google.com/search?q=Mystery+Rooms+-+Jubilee+Hills%2C+Hyderabad+(Escape+Rooms+with+Live+Actor)&sourceid=chrome&ie=UTF-8', 'https://www.google.com/search?q=Lock+N+Escape+-+Mystery+Escape+Room+Games+Hyderabad+(with+Live+Actor)&sourceid=chrome&ie=UTF-8', 'https://www.google.com/search?q=Mystery+Rooms+-+AJC+BOSE+ROAD&sourceid=chrome&ie=UTF-8', 'https://www.google.com/search?q=Mystery+Rooms+-+Park+Street%2C+Kolkata+(Escape+Rooms+with+Live+Actor)&sourceid=chrome&ie=UTF-8' 'https://www.google.com/search?q=Error+Warehouse+Horror+%26+Escape+room+games&sourceid=chrome&ie=UTF-8', 'https://www.google.com/search?q=Ignite+Escape+Room+Dubai&sourceid=chrome&ie=UTF-8', 'https://www.google.com/search?q=Horror+Rooms+by+NoWayOut+Dubai&sourceid=chrome&ie=UTF-8', 'https://www.google.com/search?q=Escape+House+-+Escape+Room+Dubai+-+Sheikh+Rashid+Road&sourceid=chrome&ie=UTF-8', 'https://www.google.com/search?q=BlackOut+Realistic+Horror+Escape+Room+Dubai&sourceid=chrome&ie=UTF-8', 'https://www.google.com/search?q=Insidious+Escape+Room+-+Horror%2FEscape+Game+Dubai&sourceid=chrome&ie=UTF-8', 'https://www.google.com/search?q=Brain+Game+Dubai+-+Escape+Rooms+%7C+Caf%C3%A9&sourceid=chrome&ie=UTF-8', 'https://www.google.com/search?q=Escape+Hunt+Dubai&sourceid=chrome&ie=UTF-8', 'https://www.google.com/search?q=NoWayOut+Escape+Rooms+City+Walk&sourceid=chrome&ie=UTF-8', 'https://www.google.com/search?q=Escape+House+-+Escape+Room+Dubai+-+Al+Wasl+Road+Jumeirah&sourceid=chrome&ie=UTF-8&lqi=CjhFc2NhcGUgSG91c2UgLSBFc2NhcGUgUm9vbSBEdWJhaSAtIEFsIFdhc2wgUm9hZCBKdW1laXJhaEj5rumBt7SAgAhaUBAAEAEQAhADGAAYARgCGAMYBBgFGAYYBxgIIjRlc2NhcGUgaG91c2UgZXNjYXBlIHJvb20gZHViYWkgYWwgd2FzbCByb2FkIGp1bWVpcmFokgESZXNjYXBlX3Jvb21fY2VudGVymgEgQ2hSRFNVaE5NRzluUzBWSlEwRm5TVU53ZFdKdllSQUKqAXoQASocIhhlc2NhcGUgaG91c2UgZXNjYXBlIHJvb20oADIeEAEiGu8QzTYT-KGhcsDdl2V5VXxPPmR0YO4_S7NzMjgQAiI0ZXNjYXBlIGhvdXNlIGVzY2FwZSByb29tIGR1YmFpIGFsIHdhc2wgcm9hZCBqdW1laXJhaA#rlimm=15317351048740503426', 'https://www.google.com/search?q=Escape+The+Room+Dubai&sourceid=chrome&ie=UTF-8&lqi=ChVFc2NhcGUgVGhlIFJvb20gRHViYWlI9Z2Lg-C3gIAIWi8QABABEAIYABgBGAIYAyIVZXNjYXBlIHRoZSByb29tIGR1YmFpKggIAhAAEAEQApIBEmVzY2FwZV9yb29tX2NlbnRlcqoBPhABMh8QASIb_OGtK6JirvPIogyq30ef8HxcSeZTvpeSBUpEMhkQAiIVZXNjYXBlIHRoZSByb29tIGR1YmFp#rlimm=17795497816304607895', 'https://www.google.com/search?q=The+Escape+Game+San+Jose&sourceid=chrome&ie=UTF-8', 'https://www.google.com/search?q=Palace+Games&sourceid=chrome&ie=UTF-8', 'https://www.google.com/search?q=PanIQ+Escape+Room+San+Francisco&sourceid=chrome&ie=UTF-8', 'https://www.google.com/search?q=Escapology+Escape+Rooms+San+Francisco&sourceid=chrome&ie=UTF-8', 'https://www.google.com/search?q=The+Escape+Game+San+Francisco+(Fisherman%27s+Wharf)&sourceid=chrome&ie=UTF-8', 'https://www.google.com/search?q=The+Escape+Game+San+Francisco+(Downtown)&sourceid=chrome&ie=UTF-8', 'https://www.google.com/search?q=Exciting+Escapes+-+Croydon+Escape+Room+Experiences&sourceid=chrome&ie=UTF-8', 'https://www.google.com/search?q=Houdini%27s+Escape+Room+Experience+-+Kingston&sourceid=chrome&ie=UTF-8', 'https://www.google.com/search?q=Kingston+Escape+Rooms&sourceid=chrome&ie=UTF-8', 'https://www.google.com/search?q=Trapped+Escape+Rooms+london&sca_esv=12268370a69439db&sca_upv=1&ei=aVCrZuvRDb6xseMP07n9oAY&ved=0ahUKEwirqubduNOHAxW-WGwGHdNcH2QQ4dUDCBA&uact=5&oq=Trapped+Escape+Rooms+london&gs_lp=Egxnd3Mtd2l6LXNlcnAiG1RyYXBwZWQgRXNjYXBlIFJvb21zIGxvbmRvbjIFEAAYgAQyBhAAGBYYHjIGEAAYFhgeMgYQABgWGB4yCxAAGIAEGIYDGIoFMgsQABiABBiGAxiKBTIFEAAY7wUyCBAAGIAEGKIEMggQABiABBiiBEiECFAAWPsGcAB4AZABAJgB6AGgAf8JqgEFMC42LjG4AQPIAQD4AQGYAgegArAKwgILEAAYgAQYkQIYigXCAgsQLhiABBjHARivAZgDAJIHBTAuNi4xoAf4TQ&sclient=gws-wiz-serp', 'https://www.google.com/search?q=Chronos+One+Escape+Rooms&sourceid=chrome&ie=UTF-8', 'https://www.google.com/search?q=Escape+from+The+Golden+Hinde&sourceid=chrome&ie=UTF-8', 'https://www.google.com/search?q=ScreamWorks&sourceid=chrome&ie=UTF-8', 'https://www.google.com/search?q=Houdini%27s+Escape+Room+Experience+-+Greenwich&sourceid=chrome&ie=UTF-8', 'https://www.google.com/search?q=The+Crystal+Maze+LIVE+Experience&sourceid=chrome&ie=UTF-8', 'https://www.google.com/search?q=No+Escape+Victoria&sourceid=chrome&ie=UTF-8', 'https://www.google.com/search?q=Game+Over+London&sourceid=chrome&ie=UTF-8', 'https://www.google.com/search?q=escape+plan+escape+room+london&sca_esv=12268370a69439db&sca_upv=1&ei=kkirZou0Br-QseMP2b_R0Qw&ved=0ahUKEwiLxd2gsdOHAxU_SGwGHdlfNMoQ4dUDCBA&uact=5&oq=escape+plan+escape+room+london&gs_lp=Egxnd3Mtd2l6LXNlcnAaAhgCIh5lc2NhcGUgcGxhbiBlc2NhcGUgcm9vbSBsb25kb24yBxAhGKABGAoyBxAhGKABGApIoyRQ0AJYhSNwAngBkAEAmAGHAqABvhKqAQUwLjIuObgBA8gBAPgBAZgCDaAC-RLCAgoQABiwAxjWBBhHwgINEAAYgAQYsAMYQxiKBcICDhAAGLADGOQCGNYE2AEBwgITEC4YgAQYsAMYQxjIAxiKBdgBAsICEBAuGIAEGLEDGEMYgwEYigXCAhMQLhiABBixAxhDGIMBGNQCGIoFwgIQEAAYgAQYsQMYQxiDARiKBcICDRAuGIAEGLEDGEMYigXCAgoQABiABBhDGIoFwgIuEC4YgAQYsQMYQxiDARiKBRiXBRjcBBjeBBjgBBj0AxjxAxj1Axj2Axj3A9gBA8ICCxAuGIAEGJECGIoFwgILEAAYgAQYkQIYigXCAgUQABiABMICKRAuGIAEGJECGIoFGJcFGNwEGN4EGOAEGPQDGPEDGPUDGPYDGPcD2AEDwgIGEAAYFhgewgILEAAYgAQYhgMYigXCAgUQABjvBcICCBAAGIsDGO8FwgIIEAAYgAQYogTCAgUQIRigAcICBBAhGBWYAwCIBgGQBhO6BgYIARABGAm6BgYIAhABGAi6BgYIAxABGBSSBwUyLjIuOaAHsE4&sclient=gws-wiz-serp', 'https://www.google.com/search?q=AIM+Escape+Rooms&sourceid=chrome&ie=UTF-8', 'https://www.google.com/search?q=Omescape+London&sourceid=chrome&ie=UTF-8', 'https://www.google.com/search?q=Houdini%27s+Escape+Room+Experience+-+Acton&sourceid=chrome&ie=UTF-8', 'https://www.google.com/search?q=Fox+in+a+Box+Escape+Rooms+London&sourceid=chrome&ie=UTF-8', 'https://www.google.com/search?q=Escape+Entertainment+London&sourceid=chrome&ie=UTF-8', 'https://www.google.com/search?q=Houdini%27s+Escape+Room+Experience+-+Farringdon&sourceid=chrome&ie=UTF-8', 'https://www.google.com/search?q=No+Escape+(Enigma+Escape)&sourceid=chrome&ie=UTF-8', 'https://www.google.com/search?q=MISSION%3A+BREAKOUT&sourceid=chrome&ie=UTF-8', 'https://www.google.com/search?q=No+Escape+Oxford+St&sourceid=chrome&ie=UTF-8', 'https://www.google.com/search?q=Escape+Rooms+London+Bridge&sourceid=chrome&ie=UTF-8', 'https://www.google.com/search?q=Escape+Rooms+London+-+Escape+Land&sourceid=chrome&ie=UTF-8', 'https://www.google.com/search?q=SENSAS+London&sourceid=chrome&ie=UTF-8', 'https://www.google.com/search?q=Escape+Hunt+Oxford+Street&sourceid=chrome&ie=UTF-8', 'https://www.google.com/search?q=Breakin%27+Escape+Rooms+London&sourceid=chrome&ie=UTF-8', 'https://www.google.com/search?q=clueQuest+-+The+Live+Escape+Game&sourceid=chrome&ie=UTF-8', 'https://www.google.com/search?q=Le+Libre+Promeneur+-+Escape+Games+%2F+Photo+-+Paris&sourceid=chrome&ie=UTF-8', 'https://www.google.com/search?q=Happy+Hour+Escape+Game&sourceid=chrome&ie=UTF-8', 'https://www.google.com/search?q=You+Have+Sixty+Minutes&sourceid=chrome&ie=UTF-8', 'https://www.google.com/search?q=Le+Triangle+-+Escape+game&sourceid=chrome&ie=UTF-8', 'https://www.google.com/search?q=60+Minutes+Escape+Game+Paris&sourceid=chrome&ie=UTF-8', 'https://www.google.com/search?q=Qwest+%3A+Room+Rush+-+Escape+Game+Paris+11%C3%A8me&sourceid=chrome&ie=UTF-8', 'https://www.google.com/search?q=The+EDGE+-+Beyond+Virtual+Experience&sourceid=chrome&ie=UTF-8', 'https://www.google.com/search?q=Team+Break+La+D%C3%A9fense&sourceid=chrome&ie=UTF-8', 'https://www.google.com/search?q=UNLEASH+Escape&sourceid=chrome&ie=UTF-8', 'https://www.google.com/search?q=SENSAS+Paris&sourceid=chrome&ie=UTF-8', 'https://www.google.com/search?q=Batman+Escape+Game+Paris&sourceid=chrome&ie=UTF-8', 'https://www.google.com/search?q=One+Hour+escape+room+paris&sca_esv=12268370a69439db&sca_upv=1&ei=SFqrZrTWGcKOseMP8bn74Ak&ved=0ahUKEwi0mu6SwtOHAxVCR2wGHfHcHpwQ4dUDCBA&uact=5&oq=One+Hour+escape+room+paris&gs_lp=Egxnd3Mtd2l6LXNlcnAaAhgDIhpPbmUgSG91ciBlc2NhcGUgcm9vbSBwYXJpczIFEAAYgAQyBhAAGBYYHjILEAAYgAQYhgMYigUyCxAAGIAEGIYDGIoFMgUQABjvBTIFEAAY7wUyBRAAGO8FMgsQABiABBiiBBiLA0iWClC6A1iWCXABeAGQAQCYAbkBoAH3BqoBAzAuNbgBA8gBAPgBAZgCBqACigfCAgoQABiwAxjWBBhHwgINEAAYsAMY1gQYRxjJA8ICDhAAGIAEGLADGJIDGIoFwgIIEAAYgAQYogTCAggQABiLAxjvBZgDAIgGAZAGCZIHAzEuNaAHyh4&sclient=gws-wiz-serp', 'https://www.google.com/search?q=Escape+LAB+Paris&sourceid=chrome&ie=UTF-8', 'https://www.google.com/search?q=Run+Out+The+Clock%2C+escape+game+%C3%A0+Paris+15%C3%A8me&sourceid=chrome&ie=UTF-8', 'https://www.google.com/search?q=CINEVASION+-+Escape+Game+%26+Cinema+Priv%C3%A9&sourceid=chrome&ie=UTF-8', 'https://www.google.com/search?q=TEAM-TIME+-+Escape+Game&sourceid=chrome&ie=UTF-8', 'https://www.google.com/search?q=The+Game+(Saint-Michel)+-+Escape+Game+Paris&sourceid=chrome&ie=UTF-8', 'https://www.google.com/search?q=Le+Bureau+des+L%C3%A9gendes+-+Escape+Game+Immersif+Paris&sourceid=chrome&ie=UTF-8', 'https://www.google.com/search?q=GG+Escape+Game&sourceid=chrome&ie=UTF-8', 'https://www.google.com/search?q=Taktic+-+Escape+Game+Paris+13+Eme&sourceid=chrome&ie=UTF-8https://www.google.com/search?q=PANIK+ROOM+-+Le+Manoir+Deveaux&sourceid=chrome&ie=UTF-8', 'https://www.google.com/search?q=Jeu+Visite+-+Escape+Games+Ext%C3%A9rieur+Paris&sourceid=chrome&ie=UTF-8', 'https://www.google.com/search?q=Le+Secret+de+Montmartre+-+Escape+game+%2F+jeu+de+piste+historique+%C3%A0+Paris&sourceid=chrome&ie=UTF-8', 'https://www.google.com/search?q=Deep+Inside+Escape+Game&sourceid=chrome&ie=UTF-8', 'https://www.google.com/search?q=Gamescape+-+Escape+room+Paris&sourceid=chrome&ie=UTF-8', 'https://www.google.com/search?q=Escape+Game+Paris+%7C+Pandore+%26+Associ%C3%A9s&sourceid=chrome&ie=UTF-8', 'https://www.google.com/search?q=ARTIMUS+Escape+Game+-+Centre+d%27escape+game+%C3%A0+Paris+20%C3%A8me&sourceid=chrome&ie=UTF-8', 'https://www.google.com/search?q=Wanderlust+-+Escape+Game+Paris&sourceid=chrome&ie=UTF-8', 'https://www.google.com/search?q=HintHunt&sourceid=chrome&ie=UTF-8', 'https://www.google.com/search?q=Rashomon+-+Escape+Game+Paris&sourceid=chrome&ie=UTF-8', 'https://www.google.com/search?q=Kairos+Escape+Game&sourceid=chrome&ie=UTF-8', 'https://www.google.com/search?q=The+Quest+Factory+-+Escape+Game+Paris&sourceid=chrome&ie=UTF-8', 'https://www.google.com/search?q=Lock+Academy+Paris+-+Escape+Game+S%C3%A9bastopol&sourceid=chrome&ie=UTF-8', 'https://www.google.com/search?q=Escape+Game-Quiz+Game+-+Paris+9+%7C+TEAM+BREAK&sourceid=chrome&ie=UTF-8', 'https://www.google.com/search?q=Phobia+Escape+Game+Paris&sourceid=chrome&ie=UTF-8', 'https://www.google.com/search?q=Escape+Hunt+Paris+-+Escape+Game&sourceid=chrome&ie=UTF-8', 'https://www.google.com/search?q=THE+ONE+Escape+-+Escape+Game+Paris&sourceid=chrome&ie=UTF-8', 'https://www.google.com/search?q=Le+Donjon+%7C+Escape+The+Room&sourceid=chrome&ie=UTF-8', 'https://www.google.com/search?q=Lock+Academy+-+Escape+Game+Paris+-+Acad%C3%A9mie+Ch%C3%A2telet&sourceid=chrome&ie=UTF-8', 'https://www.google.com/search?q=The+Game+(Cardinal+Lemoine)+-+Escape+Game+Paris&sourceid=chrome&ie=UTF-8',]\n",
    "\n",
    "\n",
    "\n",
    "all_data = []\n",
    "\n",
    "number = 0\n",
    "\n",
    "# iterating each url for scraping\n",
    "for url in urls:\n",
    "  data = scraping(url)\n",
    "  all_data.append(data)\n",
    "  number += 1\n",
    "\n",
    "with open('data.json', 'w') as json_file:\n",
    "  json.dump(all_data, json_file, indent=4)\n",
    "  print(f'Total {number} entries saved as \"data.json\"')"
   ]
  },
  {
   "cell_type": "code",
   "execution_count": null,
   "metadata": {
    "id": "bgz7SqmlPPwg"
   },
   "outputs": [],
   "source": [
    "driver.quit()"
   ]
  },
  {
   "cell_type": "code",
   "execution_count": null,
   "metadata": {
    "id": "XRTuKp3H3TBI"
   },
   "outputs": [],
   "source": []
  }
 ],
 "metadata": {
  "colab": {
   "provenance": []
  },
  "kernelspec": {
   "display_name": "Python 3 (ipykernel)",
   "language": "python",
   "name": "python3"
  },
  "language_info": {
   "codemirror_mode": {
    "name": "ipython",
    "version": 3
   },
   "file_extension": ".py",
   "mimetype": "text/x-python",
   "name": "python",
   "nbconvert_exporter": "python",
   "pygments_lexer": "ipython3",
   "version": "3.12.3"
  }
 },
 "nbformat": 4,
 "nbformat_minor": 4
}
